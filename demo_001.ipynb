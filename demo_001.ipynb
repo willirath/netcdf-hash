{
 "cells": [
  {
   "cell_type": "code",
   "execution_count": 1,
   "metadata": {
    "collapsed": true,
    "deletable": true,
    "editable": true
   },
   "outputs": [],
   "source": [
    "import hashlib\n",
    "import netCDF4 as nc4\n",
    "from pathlib import Path\n",
    "import shutil\n",
    "import tempfile"
   ]
  },
  {
   "cell_type": "code",
   "execution_count": 2,
   "metadata": {
    "collapsed": true,
    "deletable": true,
    "editable": true
   },
   "outputs": [],
   "source": [
    "def attribute_filter(attributes):\n",
    "    \"Filter for elements which do not start with '__NCH'.\"\n",
    "    return filter(lambda a: not a.startswith(\"__NCH\"), attributes)"
   ]
  },
  {
   "cell_type": "code",
   "execution_count": 3,
   "metadata": {
    "collapsed": false,
    "deletable": true,
    "editable": true
   },
   "outputs": [],
   "source": [
    "def update_hash_attr(name, value, hash_obj):\n",
    "    \"\"\"Update `hash_obj` with the UTF8 encoded string version of first `name` and then `value`.\"\"\"\n",
    "    hash_obj.update(str(name).encode('utf8'))\n",
    "    hash_obj.update(str(value).encode('utf8'))\n",
    "    return hash_obj"
   ]
  },
  {
   "cell_type": "code",
   "execution_count": 4,
   "metadata": {
    "collapsed": false,
    "deletable": true,
    "editable": true
   },
   "outputs": [],
   "source": [
    "def update_hash_var(var_obj, hash_obj):\n",
    "    \"\"\"Update `hash_obj` from a variable.\"\"\"\n",
    "    hash_obj.update(str(var_obj.name).encode('utf8'))\n",
    "    hash_obj.update(var_obj[:].data)\n",
    "    hash_obj.update(var_obj[:].data)\n",
    "    for attr in attribute_filter(sorted(var_obj.ncattrs())):\n",
    "        update_hash_attr(attr, var_obj.getncattr(attr), hash_obj)\n",
    "    return hash_obj"
   ]
  },
  {
   "cell_type": "code",
   "execution_count": 5,
   "metadata": {
    "collapsed": true,
    "deletable": true,
    "editable": true
   },
   "outputs": [],
   "source": [
    "def calculate_file_hash(file_name):\n",
    "    \"\"\"Calculate hash for a given netCDF file.\"\"\"\n",
    "    with nc4.Dataset(str(file_name)) as data_set:\n",
    "        hash_obj = hashlib.sha256()\n",
    "        for key, var in sorted(data_set.variables.items()):\n",
    "            hash_obj = update_hash_var(var, hash_obj)\n",
    "        for name in attribute_filter(data_set.ncattrs()):\n",
    "            value = data_set.getncattr(name)\n",
    "            hash_obj = update_hash_attr(name, value, hash_obj)\n",
    "        return hash_obj.hexdigest()"
   ]
  },
  {
   "cell_type": "code",
   "execution_count": 6,
   "metadata": {
    "collapsed": false,
    "deletable": true,
    "editable": true
   },
   "outputs": [],
   "source": [
    "def calc_and_append_file_hash(file_name):\n",
    "    file_hash = calculate_file_hash(file_name)\n",
    "    with nc4.Dataset(file_name, mode=\"a\") as ds:\n",
    "        ds.__NCH_file_hash = str(file_hash)\n",
    "        ds.sync()\n",
    "    return file_hash"
   ]
  },
  {
   "cell_type": "code",
   "execution_count": 7,
   "metadata": {
    "collapsed": true,
    "deletable": true,
    "editable": true
   },
   "outputs": [],
   "source": [
    "def verify_file_hash(file_name, take_hash_from=None):\n",
    "    if take_hash_from is not None:\n",
    "        with nc4.Dataset(take_hash_from, mode=\"r\") as ds:\n",
    "            ref_hash = ds.__NCH_file_hash\n",
    "    else:\n",
    "        with nc4.Dataset(file_name, mode=\"r\") as ds:\n",
    "            ref_hash = ds.__NCH_file_hash\n",
    "    file_hash = calculate_file_hash(file_name)\n",
    "    return file_hash == ref_hash"
   ]
  },
  {
   "cell_type": "code",
   "execution_count": 8,
   "metadata": {
    "collapsed": false,
    "deletable": true,
    "editable": true
   },
   "outputs": [
    {
     "name": "stdout",
     "output_type": "stream",
     "text": [
      "nc-hashes:\n",
      "\n",
      "7cf05effaab237532b6243651640a3bcaf52ab11bff5844be6aaef84c5ff4792 example_data/madis-sao.nc\n",
      "7cf05effaab237532b6243651640a3bcaf52ab11bff5844be6aaef84c5ff4792 /tmp/tmpx07rprtg/madis-sao.nc first iteration\n",
      "verification: True /tmp/tmpx07rprtg/madis-sao.nc\n",
      "verification: True example_data/madis-sao.nc /tmp/tmpx07rprtg/madis-sao.nc\n",
      "\n",
      "full-file hashes:\n",
      "\n",
      "393705135758f8d35cf9078e0e9e34731c81f36ee2bfd369bc765ecfcdaf8abe example_data/madis-sao.nc\n",
      "c530b11075934325a9f050a8484ce26cef9b420208316806b1d4e2ec968a4058 /tmp/tmpx07rprtg/madis-sao.nc\n",
      "\n",
      "nc-hashes:\n",
      "\n",
      "7cf05effaab237532b6243651640a3bcaf52ab11bff5844be6aaef84c5ff4792 example_data/madis-sao.nc.3\n",
      "7cf05effaab237532b6243651640a3bcaf52ab11bff5844be6aaef84c5ff4792 /tmp/tmpx07rprtg/madis-sao.nc.3 first iteration\n",
      "verification: True /tmp/tmpx07rprtg/madis-sao.nc.3\n",
      "verification: True example_data/madis-sao.nc.3 /tmp/tmpx07rprtg/madis-sao.nc.3\n",
      "\n",
      "full-file hashes:\n",
      "\n",
      "fbcdea56616f365f8ee62ce7c468e8b72fc4b418bbcb70f0b458e258981e736c example_data/madis-sao.nc.3\n",
      "99d86baa85bd9196cb91152af689eb6bc8b4921eb9b43c44a68a110512fa6b7d /tmp/tmpx07rprtg/madis-sao.nc.3\n",
      "\n",
      "nc-hashes:\n",
      "\n",
      "7cf05effaab237532b6243651640a3bcaf52ab11bff5844be6aaef84c5ff4792 example_data/madis-sao.nc.4\n",
      "7cf05effaab237532b6243651640a3bcaf52ab11bff5844be6aaef84c5ff4792 /tmp/tmpx07rprtg/madis-sao.nc.4 first iteration\n",
      "verification: True /tmp/tmpx07rprtg/madis-sao.nc.4\n",
      "verification: True example_data/madis-sao.nc.4 /tmp/tmpx07rprtg/madis-sao.nc.4\n",
      "\n",
      "full-file hashes:\n",
      "\n",
      "270ea95d8597642638c5ae6d817cca8a75a71c3c127b196878ce4e1a33e4a348 example_data/madis-sao.nc.4\n",
      "a1c019ac49383d72e67fba92c4ae7666f3b00acc7966f300e0ec5cb90bce6f7e /tmp/tmpx07rprtg/madis-sao.nc.4\n",
      "\n",
      "nc-hashes:\n",
      "\n",
      "7cf05effaab237532b6243651640a3bcaf52ab11bff5844be6aaef84c5ff4792 example_data/madis-sao.nc.6\n",
      "7cf05effaab237532b6243651640a3bcaf52ab11bff5844be6aaef84c5ff4792 /tmp/tmpx07rprtg/madis-sao.nc.6 first iteration\n",
      "verification: True /tmp/tmpx07rprtg/madis-sao.nc.6\n",
      "verification: True example_data/madis-sao.nc.6 /tmp/tmpx07rprtg/madis-sao.nc.6\n",
      "\n",
      "full-file hashes:\n",
      "\n",
      "44a2f9756469c51ec7653067f0cfc23ebad4dcf3aec62b3301be071029b56738 example_data/madis-sao.nc.6\n",
      "e11f70f51eaff6b299ddbac2fc4c89eb52597c6ae38840bdc236b6597caae564 /tmp/tmpx07rprtg/madis-sao.nc.6\n",
      "\n",
      "nc-hashes:\n",
      "\n",
      "7cf05effaab237532b6243651640a3bcaf52ab11bff5844be6aaef84c5ff4792 example_data/madis-sao.nc.7\n",
      "7cf05effaab237532b6243651640a3bcaf52ab11bff5844be6aaef84c5ff4792 /tmp/tmpx07rprtg/madis-sao.nc.7 first iteration\n",
      "verification: True /tmp/tmpx07rprtg/madis-sao.nc.7\n",
      "verification: True example_data/madis-sao.nc.7 /tmp/tmpx07rprtg/madis-sao.nc.7\n",
      "\n",
      "full-file hashes:\n",
      "\n",
      "b69feea372340b66eaa6436f5e106d672ef4146d39891ff2093d8fcac5ab480b example_data/madis-sao.nc.7\n",
      "0dbdf312b3671e1d635d334cbbe7d3cc3e1d8df1dd0fae78bf6bdcc4f53da9f1 /tmp/tmpx07rprtg/madis-sao.nc.7\n",
      "\n"
     ]
    }
   ],
   "source": [
    "files_to_process = [\"example_data/madis-sao.nc\" + knd\n",
    "                    for knd in [\"\", \".3\", \".4\", \".6\", \".7\"]]\n",
    "with tempfile.TemporaryDirectory() as tmpdir:\n",
    "    for ftop in files_to_process:\n",
    "        tmpfile = Path(str(tmpdir)) / Path(ftop).name\n",
    "        shutil.copy(str(ftop), str(tmpfile))\n",
    "\n",
    "        print(\"nc-hashes:\\n\")\n",
    "        \n",
    "        print(calculate_file_hash(ftop), ftop)\n",
    "        print(calc_and_append_file_hash(tmpfile), tmpfile, \"first iteration\")\n",
    "\n",
    "        print(\"verification:\", verify_file_hash(tmpfile), tmpfile)\n",
    "        print(\"verification:\", verify_file_hash(ftop, tmpfile), ftop, tmpfile)\n",
    "        \n",
    "        print(\"\\nfull-file hashes:\\n\")\n",
    "\n",
    "        for fn in [ftop, tmpfile]:\n",
    "            fn = str(fn)\n",
    "            with open(fn, 'rb') as f:\n",
    "                print(hashlib.sha256(f.read()).hexdigest(), fn)\n",
    "\n",
    "        print()"
   ]
  }
 ],
 "metadata": {
  "kernelspec": {
   "display_name": "Python 3",
   "language": "python",
   "name": "python3"
  },
  "language_info": {
   "codemirror_mode": {
    "name": "ipython",
    "version": 3
   },
   "file_extension": ".py",
   "mimetype": "text/x-python",
   "name": "python",
   "nbconvert_exporter": "python",
   "pygments_lexer": "ipython3",
   "version": "3.5.3"
  }
 },
 "nbformat": 4,
 "nbformat_minor": 2
}
