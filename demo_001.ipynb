{
 "cells": [
  {
   "cell_type": "code",
   "execution_count": 1,
   "metadata": {
    "collapsed": true,
    "deletable": true,
    "editable": true
   },
   "outputs": [],
   "source": [
    "import hashlib\n",
    "import netCDF4 as nc4\n",
    "from pathlib import Path\n",
    "import shutil\n",
    "import tempfile"
   ]
  },
  {
   "cell_type": "code",
   "execution_count": 2,
   "metadata": {
    "collapsed": true,
    "deletable": true,
    "editable": true
   },
   "outputs": [],
   "source": [
    "def attribute_filter(attributes):\n",
    "    \"Filter for elements which do not start with '__NCH'.\"\n",
    "    return filter(lambda a: not a.startswith(\"__NCH\"), attributes)"
   ]
  },
  {
   "cell_type": "code",
   "execution_count": 3,
   "metadata": {
    "collapsed": true,
    "deletable": true,
    "editable": true
   },
   "outputs": [],
   "source": [
    "def update_hash_attr(name, value, hash_obj=None):\n",
    "    \"\"\"Update `hash_obj` with the UTF8 encoded string version of first `name` and then `value`.\"\"\"\n",
    "    if hash_obj is None:\n",
    "        hash_obj = hashlib.sha256()\n",
    "    hash_obj.update(str(name).encode('utf8'))\n",
    "    hash_obj.update(str(value).encode('utf8'))\n",
    "    return hash_obj"
   ]
  },
  {
   "cell_type": "code",
   "execution_count": 4,
   "metadata": {
    "collapsed": true,
    "deletable": true,
    "editable": true
   },
   "outputs": [],
   "source": [
    "def update_hash_var(var_obj, hash_obj=None):\n",
    "    \"\"\"Update `hash_obj` from a variable.\"\"\"\n",
    "    if hash_obj is None:\n",
    "        hash_obj = hashlib.sha256()\n",
    "    hash_obj.update(str(var_obj.name).encode('utf8'))\n",
    "    for attr in attribute_filter(sorted(var_obj.ncattrs())):\n",
    "        update_hash_attr(attr, hash_obj)"
   ]
  },
  {
   "cell_type": "code",
   "execution_count": 5,
   "metadata": {
    "collapsed": true,
    "deletable": true,
    "editable": true
   },
   "outputs": [],
   "source": [
    "def calculate_file_hash(file_name):\n",
    "    \"\"\"Calculate hash for a given netCDF file.\"\"\"\n",
    "    with nc4.Dataset(str(file_name)) as data_set:\n",
    "        hash_obj = None\n",
    "        for key, var in sorted(data_set.variables.items()):\n",
    "            hash_obj = update_hash_var(var, hash_obj)\n",
    "        for name in attribute_filter(data_set.ncattrs()):\n",
    "            value = data_set.getncattr(name)\n",
    "            hash_obj = update_hash_attr(name, value, hash_obj)\n",
    "        return hash_obj.hexdigest()"
   ]
  },
  {
   "cell_type": "code",
   "execution_count": 6,
   "metadata": {
    "collapsed": false,
    "deletable": true,
    "editable": true
   },
   "outputs": [],
   "source": [
    "def calc_and_append_file_hash(file_name):\n",
    "    file_hash = calculate_file_hash(file_name)\n",
    "    with nc4.Dataset(file_name, mode=\"a\") as ds:\n",
    "        ds.__NCH_file_hash = str(file_hash)\n",
    "        ds.sync()\n",
    "    return file_hash"
   ]
  },
  {
   "cell_type": "code",
   "execution_count": 7,
   "metadata": {
    "collapsed": true
   },
   "outputs": [],
   "source": [
    "def verify_file_hash(file_name, take_hash_from=None):\n",
    "    if take_hash_from is not None:\n",
    "        with nc4.Dataset(take_hash_from, mode=\"r\") as ds:\n",
    "            ref_hash = ds.__NCH_file_hash\n",
    "    else:\n",
    "        with nc4.Dataset(file_name, mode=\"r\") as ds:\n",
    "            ref_hash = ds.__NCH_file_hash\n",
    "    file_hash = calculate_file_hash(file_name)\n",
    "    return file_hash == ref_hash"
   ]
  },
  {
   "cell_type": "code",
   "execution_count": 8,
   "metadata": {
    "collapsed": false,
    "deletable": true,
    "editable": true
   },
   "outputs": [
    {
     "name": "stdout",
     "output_type": "stream",
     "text": [
      "nc-hashes:\n",
      "\n",
      "d03d576afef618549f44a49bb7a988ff9801670cf0944ad5254e26a2dd6397d8 example_data/madis-sao.nc\n",
      "d03d576afef618549f44a49bb7a988ff9801670cf0944ad5254e26a2dd6397d8 /tmp/tmpma6nmrcl/madis-sao.nc first iteration\n",
      "verification: True /tmp/tmpma6nmrcl/madis-sao.nc\n",
      "verification: True example_data/madis-sao.nc /tmp/tmpma6nmrcl/madis-sao.nc\n",
      "\n",
      "full-file hashes:\n",
      "\n",
      "393705135758f8d35cf9078e0e9e34731c81f36ee2bfd369bc765ecfcdaf8abe example_data/madis-sao.nc\n",
      "9a6a2bdf3276cdebe1faf774a945ced4e952c51ee489f43cf20405eae66c2574 /tmp/tmpma6nmrcl/madis-sao.nc\n",
      "\n",
      "nc-hashes:\n",
      "\n",
      "d03d576afef618549f44a49bb7a988ff9801670cf0944ad5254e26a2dd6397d8 example_data/madis-sao.nc.3\n",
      "d03d576afef618549f44a49bb7a988ff9801670cf0944ad5254e26a2dd6397d8 /tmp/tmpma6nmrcl/madis-sao.nc.3 first iteration\n",
      "verification: True /tmp/tmpma6nmrcl/madis-sao.nc.3\n",
      "verification: True example_data/madis-sao.nc.3 /tmp/tmpma6nmrcl/madis-sao.nc.3\n",
      "\n",
      "full-file hashes:\n",
      "\n",
      "fbcdea56616f365f8ee62ce7c468e8b72fc4b418bbcb70f0b458e258981e736c example_data/madis-sao.nc.3\n",
      "13e3b7edffcaf15824b5113e2c0820f8f10f7c108ea4d6f199eaac0f7aaa4fe7 /tmp/tmpma6nmrcl/madis-sao.nc.3\n",
      "\n",
      "nc-hashes:\n",
      "\n",
      "d03d576afef618549f44a49bb7a988ff9801670cf0944ad5254e26a2dd6397d8 example_data/madis-sao.nc.4\n",
      "d03d576afef618549f44a49bb7a988ff9801670cf0944ad5254e26a2dd6397d8 /tmp/tmpma6nmrcl/madis-sao.nc.4 first iteration\n",
      "verification: True /tmp/tmpma6nmrcl/madis-sao.nc.4\n",
      "verification: True example_data/madis-sao.nc.4 /tmp/tmpma6nmrcl/madis-sao.nc.4\n",
      "\n",
      "full-file hashes:\n",
      "\n",
      "270ea95d8597642638c5ae6d817cca8a75a71c3c127b196878ce4e1a33e4a348 example_data/madis-sao.nc.4\n",
      "b69bd5564a62fb13466450b2b6614bb4b6e8ab671ee1cb10b597a078c35773c8 /tmp/tmpma6nmrcl/madis-sao.nc.4\n",
      "\n",
      "nc-hashes:\n",
      "\n",
      "d03d576afef618549f44a49bb7a988ff9801670cf0944ad5254e26a2dd6397d8 example_data/madis-sao.nc.6\n",
      "d03d576afef618549f44a49bb7a988ff9801670cf0944ad5254e26a2dd6397d8 /tmp/tmpma6nmrcl/madis-sao.nc.6 first iteration\n",
      "verification: True /tmp/tmpma6nmrcl/madis-sao.nc.6\n",
      "verification: True example_data/madis-sao.nc.6 /tmp/tmpma6nmrcl/madis-sao.nc.6\n",
      "\n",
      "full-file hashes:\n",
      "\n",
      "44a2f9756469c51ec7653067f0cfc23ebad4dcf3aec62b3301be071029b56738 example_data/madis-sao.nc.6\n",
      "1ca15edf8c3b0be064bbb40063569bfd4c204697079afd44c9d21897c1bf53d5 /tmp/tmpma6nmrcl/madis-sao.nc.6\n",
      "\n",
      "nc-hashes:\n",
      "\n",
      "d03d576afef618549f44a49bb7a988ff9801670cf0944ad5254e26a2dd6397d8 example_data/madis-sao.nc.7\n",
      "d03d576afef618549f44a49bb7a988ff9801670cf0944ad5254e26a2dd6397d8 /tmp/tmpma6nmrcl/madis-sao.nc.7 first iteration\n",
      "verification: True /tmp/tmpma6nmrcl/madis-sao.nc.7\n",
      "verification: True example_data/madis-sao.nc.7 /tmp/tmpma6nmrcl/madis-sao.nc.7\n",
      "\n",
      "full-file hashes:\n",
      "\n",
      "b69feea372340b66eaa6436f5e106d672ef4146d39891ff2093d8fcac5ab480b example_data/madis-sao.nc.7\n",
      "a6bd5d97fd3e3741a85604f84d1ee7b5a4890380f671bdc8000a5fa757b764b9 /tmp/tmpma6nmrcl/madis-sao.nc.7\n",
      "\n"
     ]
    }
   ],
   "source": [
    "files_to_process = [\"example_data/madis-sao.nc\" + knd\n",
    "                    for knd in [\"\", \".3\", \".4\", \".6\", \".7\"]]\n",
    "with tempfile.TemporaryDirectory() as tmpdir:\n",
    "    for ftop in files_to_process:\n",
    "        tmpfile = Path(str(tmpdir)) / Path(ftop).name\n",
    "        shutil.copy(str(ftop), str(tmpfile))\n",
    "\n",
    "        print(\"nc-hashes:\\n\")\n",
    "        \n",
    "        print(calculate_file_hash(ftop), ftop)\n",
    "        print(calc_and_append_file_hash(tmpfile), tmpfile, \"first iteration\")\n",
    "\n",
    "        print(\"verification:\", verify_file_hash(tmpfile), tmpfile)\n",
    "        print(\"verification:\", verify_file_hash(ftop, tmpfile), ftop, tmpfile)\n",
    "        \n",
    "        print(\"\\nfull-file hashes:\\n\")\n",
    "\n",
    "        for fn in [ftop, tmpfile]:\n",
    "            fn = str(fn)\n",
    "            with open(fn, 'rb') as f:\n",
    "                print(hashlib.sha256(f.read()).hexdigest(), fn)\n",
    "\n",
    "        print()"
   ]
  }
 ],
 "metadata": {
  "kernelspec": {
   "display_name": "Python 3",
   "language": "python",
   "name": "python3"
  },
  "language_info": {
   "codemirror_mode": {
    "name": "ipython",
    "version": 3
   },
   "file_extension": ".py",
   "mimetype": "text/x-python",
   "name": "python",
   "nbconvert_exporter": "python",
   "pygments_lexer": "ipython3",
   "version": "3.5.3"
  }
 },
 "nbformat": 4,
 "nbformat_minor": 2
}
