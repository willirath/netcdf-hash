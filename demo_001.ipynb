{
 "cells": [
  {
   "cell_type": "code",
   "execution_count": 1,
   "metadata": {
    "collapsed": true,
    "deletable": true,
    "editable": true
   },
   "outputs": [],
   "source": [
    "import hashlib\n",
    "import netCDF4 as nc4"
   ]
  },
  {
   "cell_type": "code",
   "execution_count": 2,
   "metadata": {
    "collapsed": true,
    "deletable": true,
    "editable": true
   },
   "outputs": [],
   "source": [
    "def attribute_filter(attributes):\n",
    "    \"Filter for elements which do not start with '__NCH'.\"\n",
    "    return filter(lambda a: not a.startswith(\"__NCH\"), attributes)"
   ]
  },
  {
   "cell_type": "code",
   "execution_count": 3,
   "metadata": {
    "collapsed": true,
    "deletable": true,
    "editable": true
   },
   "outputs": [],
   "source": [
    "def update_hash_attr(name, value, hash_obj=None):\n",
    "    \"\"\"Update `hash_obj` with the UTF8 encoded string version of first `name` and then `value`.\"\"\"\n",
    "    if hash_obj is None:\n",
    "        hash_obj = hashlib.sha256()\n",
    "    hash_obj.update(str(name).encode('utf8'))\n",
    "    hash_obj.update(str(value).encode('utf8'))\n",
    "    return hash_obj"
   ]
  },
  {
   "cell_type": "code",
   "execution_count": 4,
   "metadata": {
    "collapsed": true,
    "deletable": true,
    "editable": true
   },
   "outputs": [],
   "source": [
    "def update_hash_var(var_obj, hash_obj=None):\n",
    "    \"\"\"Update `hash_obj` from a variable.\"\"\"\n",
    "    if hash_obj is None:\n",
    "        hash_obj = hashlib.sha256()\n",
    "    hash_obj.update(str(var_obj.name).encode('utf8'))\n",
    "    for attr in attribute_filter(sorted(var_obj.ncattrs())):\n",
    "        update_hash_attr(attr, hash_obj)"
   ]
  },
  {
   "cell_type": "code",
   "execution_count": 5,
   "metadata": {
    "collapsed": true,
    "deletable": true,
    "editable": true
   },
   "outputs": [],
   "source": [
    "def calculate_file_hash(file_name):\n",
    "    \"\"\"Calculate hash for a given netCDF file.\"\"\"\n",
    "    data_set = nc4.Dataset(str(file_name))\n",
    "    hash_obj = None\n",
    "    for key, var in sorted(data_set.variables.items()):\n",
    "        hash_obj = update_hash_var(var, hash_obj)\n",
    "    for name in data_set.ncattrs():\n",
    "        value = data_set.getncattr(name)\n",
    "        hash_obj = update_hash_attr(name, value, hash_obj)\n",
    "    return hash_obj.hexdigest()"
   ]
  },
  {
   "cell_type": "code",
   "execution_count": 6,
   "metadata": {
    "collapsed": false,
    "deletable": true,
    "editable": true
   },
   "outputs": [
    {
     "name": "stdout",
     "output_type": "stream",
     "text": [
      "d03d576afef618549f44a49bb7a988ff9801670cf0944ad5254e26a2dd6397d8 example_data/madis-sao.nc\n",
      "d03d576afef618549f44a49bb7a988ff9801670cf0944ad5254e26a2dd6397d8 example_data/madis-sao.nc.3\n",
      "d03d576afef618549f44a49bb7a988ff9801670cf0944ad5254e26a2dd6397d8 example_data/madis-sao.nc.4\n",
      "d03d576afef618549f44a49bb7a988ff9801670cf0944ad5254e26a2dd6397d8 example_data/madis-sao.nc.6\n",
      "d03d576afef618549f44a49bb7a988ff9801670cf0944ad5254e26a2dd6397d8 example_data/madis-sao.nc.7\n"
     ]
    }
   ],
   "source": [
    "base_example_file = \"example_data/madis-sao.nc\"\n",
    "print(calculate_file_hash(base_example_file), base_example_file)\n",
    "\n",
    "for kind in [3, 4, 6, 7]:\n",
    "    example_file = base_example_file + \".{}\".format(kind)\n",
    "    print(calculate_file_hash(example_file), example_file)"
   ]
  }
 ],
 "metadata": {
  "kernelspec": {
   "display_name": "Python 3",
   "language": "python",
   "name": "python3"
  },
  "language_info": {
   "codemirror_mode": {
    "name": "ipython",
    "version": 3
   },
   "file_extension": ".py",
   "mimetype": "text/x-python",
   "name": "python",
   "nbconvert_exporter": "python",
   "pygments_lexer": "ipython3",
   "version": "3.5.3"
  }
 },
 "nbformat": 4,
 "nbformat_minor": 2
}
